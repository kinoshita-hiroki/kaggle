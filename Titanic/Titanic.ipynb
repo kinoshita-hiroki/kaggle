{
  "nbformat": 4,
  "nbformat_minor": 0,
  "metadata": {
    "colab": {
      "name": "Titanic",
      "provenance": [],
      "collapsed_sections": [],
      "include_colab_link": true
    },
    "kernelspec": {
      "name": "python3",
      "display_name": "Python 3"
    },
    "language_info": {
      "name": "python"
    }
  },
  "cells": [
    {
      "cell_type": "markdown",
      "metadata": {
        "id": "view-in-github",
        "colab_type": "text"
      },
      "source": [
        "<a href=\"https://colab.research.google.com/github/kinoshita-hiroki/kaggle/blob/main/Titanic/Titanic.ipynb\" target=\"_parent\"><img src=\"https://colab.research.google.com/assets/colab-badge.svg\" alt=\"Open In Colab\"/></a>"
      ]
    },
    {
      "cell_type": "markdown",
      "metadata": {
        "id": "pyFG6cfJ__TW"
      },
      "source": [
        "# todo\n",
        "- 何故Nanが出るのか？\n"
      ]
    },
    {
      "cell_type": "markdown",
      "metadata": {
        "id": "7nR1KveHcKBa"
      },
      "source": [
        "# 準備\n",
        "KaggleのタイタニックコンペティションのページからDataをダウンロードする → [Download All]\n",
        "\n",
        "https://www.kaggle.com/c/titanic/data#\n",
        "\n",
        "自分のGoogle Driveを開いて任意の場所にタイタニックデータ3つ(gender_submission.csv, test.csv, train.csv)をアップロードする\n",
        "※ここでは マイドライブ/KaggleLearning/Titanic ディレクトリ配下に置いた\n",
        "\n",
        "ランタイム接続し、左側メニューの「ファイル」を選択して出てきたウィンドウの中の「ドライブをマウント」を押下すと以下のコマンドが出てくる。これを実行する。"
      ]
    },
    {
      "cell_type": "code",
      "metadata": {
        "id": "-Hc0YDjbeP4P",
        "colab": {
          "base_uri": "https://localhost:8080/"
        },
        "outputId": "7bff2d4b-9775-4864-f4cc-0d2b894a8af3"
      },
      "source": [
        "from google.colab import drive\n",
        "import numpy as np\n",
        "import pandas as pd\n",
        "\n",
        "drive.mount('/content/drive')"
      ],
      "execution_count": 1,
      "outputs": [
        {
          "output_type": "stream",
          "text": [
            "Mounted at /content/drive\n"
          ],
          "name": "stdout"
        }
      ]
    },
    {
      "cell_type": "markdown",
      "metadata": {
        "id": "qpeatMPBzEzC"
      },
      "source": [
        "# データ解析\n",
        "メモ\n",
        "- 連続値 -> 年齢とFare連続値\n",
        "- Nanが存在する -> Age, Cabin, Embarked\n",
        "\n",
        "- Parch, SibSp両方独身かそれ以外で見た方がいいかも\n",
        "- 男が死にやすい\n",
        "- Cabin != nullのが生存率高い\n",
        "- Age != nullのが生存率高い\n",
        "- FareやPclassが良いほど生きてる"
      ]
    },
    {
      "cell_type": "code",
      "metadata": {
        "colab": {
          "base_uri": "https://localhost:8080/"
        },
        "id": "ENHqAWXRTfZJ",
        "outputId": "dd039782-eec1-462e-cf52-44871e7542ca"
      },
      "source": [
        "import seaborn as sns\n",
        "df_train.columns"
      ],
      "execution_count": null,
      "outputs": [
        {
          "output_type": "execute_result",
          "data": {
            "text/plain": [
              "Index(['PassengerId', 'Survived', 'Pclass', 'Name', 'Sex', 'Age', 'SibSp',\n",
              "       'Parch', 'Ticket', 'Fare', 'Cabin', 'Embarked'],\n",
              "      dtype='object')"
            ]
          },
          "metadata": {
            "tags": []
          },
          "execution_count": 5
        }
      ]
    },
    {
      "cell_type": "code",
      "metadata": {
        "id": "S407yeleeKVy"
      },
      "source": [
        "def replace_data(data):\n",
        "  return data.replace(\"male\",0).replace(\"female\",1).replace(\"S\",0).replace(\"C\",1).replace(\"Q\",2)"
      ],
      "execution_count": null,
      "outputs": []
    },
    {
      "cell_type": "code",
      "metadata": {
        "id": "Bsa-vBBggoDe"
      },
      "source": [
        "df_train.loc[:, [\"CabinEx\"]] = 0\n",
        "df_train[df_train.loc[:, [\"Cabin\"]].notnull()].loc[:, [\"CabinEx\"]] = 1"
      ],
      "execution_count": null,
      "outputs": []
    },
    {
      "cell_type": "code",
      "metadata": {
        "colab": {
          "base_uri": "https://localhost:8080/",
          "height": 419
        },
        "id": "ciUcUTUYhtr1",
        "outputId": "ca8b0db8-c8a9-4e78-b76f-a49f1f710228"
      },
      "source": [
        "df_train.loc[:, [\"Cabin\", \"CabinEx\"]]"
      ],
      "execution_count": null,
      "outputs": [
        {
          "output_type": "execute_result",
          "data": {
            "text/html": [
              "<div>\n",
              "<style scoped>\n",
              "    .dataframe tbody tr th:only-of-type {\n",
              "        vertical-align: middle;\n",
              "    }\n",
              "\n",
              "    .dataframe tbody tr th {\n",
              "        vertical-align: top;\n",
              "    }\n",
              "\n",
              "    .dataframe thead th {\n",
              "        text-align: right;\n",
              "    }\n",
              "</style>\n",
              "<table border=\"1\" class=\"dataframe\">\n",
              "  <thead>\n",
              "    <tr style=\"text-align: right;\">\n",
              "      <th></th>\n",
              "      <th>Cabin</th>\n",
              "      <th>CabinEx</th>\n",
              "    </tr>\n",
              "  </thead>\n",
              "  <tbody>\n",
              "    <tr>\n",
              "      <th>0</th>\n",
              "      <td>NaN</td>\n",
              "      <td>0</td>\n",
              "    </tr>\n",
              "    <tr>\n",
              "      <th>1</th>\n",
              "      <td>C85</td>\n",
              "      <td>0</td>\n",
              "    </tr>\n",
              "    <tr>\n",
              "      <th>2</th>\n",
              "      <td>NaN</td>\n",
              "      <td>0</td>\n",
              "    </tr>\n",
              "    <tr>\n",
              "      <th>3</th>\n",
              "      <td>C123</td>\n",
              "      <td>0</td>\n",
              "    </tr>\n",
              "    <tr>\n",
              "      <th>4</th>\n",
              "      <td>NaN</td>\n",
              "      <td>0</td>\n",
              "    </tr>\n",
              "    <tr>\n",
              "      <th>...</th>\n",
              "      <td>...</td>\n",
              "      <td>...</td>\n",
              "    </tr>\n",
              "    <tr>\n",
              "      <th>886</th>\n",
              "      <td>NaN</td>\n",
              "      <td>0</td>\n",
              "    </tr>\n",
              "    <tr>\n",
              "      <th>887</th>\n",
              "      <td>B42</td>\n",
              "      <td>0</td>\n",
              "    </tr>\n",
              "    <tr>\n",
              "      <th>888</th>\n",
              "      <td>NaN</td>\n",
              "      <td>0</td>\n",
              "    </tr>\n",
              "    <tr>\n",
              "      <th>889</th>\n",
              "      <td>C148</td>\n",
              "      <td>0</td>\n",
              "    </tr>\n",
              "    <tr>\n",
              "      <th>890</th>\n",
              "      <td>NaN</td>\n",
              "      <td>0</td>\n",
              "    </tr>\n",
              "  </tbody>\n",
              "</table>\n",
              "<p>891 rows × 2 columns</p>\n",
              "</div>"
            ],
            "text/plain": [
              "    Cabin  CabinEx\n",
              "0     NaN        0\n",
              "1     C85        0\n",
              "2     NaN        0\n",
              "3    C123        0\n",
              "4     NaN        0\n",
              "..    ...      ...\n",
              "886   NaN        0\n",
              "887   B42        0\n",
              "888   NaN        0\n",
              "889  C148        0\n",
              "890   NaN        0\n",
              "\n",
              "[891 rows x 2 columns]"
            ]
          },
          "metadata": {
            "tags": []
          },
          "execution_count": 11
        }
      ]
    },
    {
      "cell_type": "code",
      "metadata": {
        "colab": {
          "base_uri": "https://localhost:8080/",
          "height": 359
        },
        "id": "tlizFoSPi7JT",
        "outputId": "c3db04e4-a39e-40f8-a5eb-c555d4f7826a"
      },
      "source": [
        "replace_data(df_train).corr()"
      ],
      "execution_count": null,
      "outputs": [
        {
          "output_type": "execute_result",
          "data": {
            "text/html": [
              "<div>\n",
              "<style scoped>\n",
              "    .dataframe tbody tr th:only-of-type {\n",
              "        vertical-align: middle;\n",
              "    }\n",
              "\n",
              "    .dataframe tbody tr th {\n",
              "        vertical-align: top;\n",
              "    }\n",
              "\n",
              "    .dataframe thead th {\n",
              "        text-align: right;\n",
              "    }\n",
              "</style>\n",
              "<table border=\"1\" class=\"dataframe\">\n",
              "  <thead>\n",
              "    <tr style=\"text-align: right;\">\n",
              "      <th></th>\n",
              "      <th>PassengerId</th>\n",
              "      <th>Survived</th>\n",
              "      <th>Pclass</th>\n",
              "      <th>Sex</th>\n",
              "      <th>Age</th>\n",
              "      <th>SibSp</th>\n",
              "      <th>Parch</th>\n",
              "      <th>Fare</th>\n",
              "      <th>Embarked</th>\n",
              "      <th>CabinEx</th>\n",
              "    </tr>\n",
              "  </thead>\n",
              "  <tbody>\n",
              "    <tr>\n",
              "      <th>PassengerId</th>\n",
              "      <td>1.000000</td>\n",
              "      <td>-0.005007</td>\n",
              "      <td>-0.035144</td>\n",
              "      <td>-0.042939</td>\n",
              "      <td>0.036847</td>\n",
              "      <td>-0.057527</td>\n",
              "      <td>-0.001652</td>\n",
              "      <td>0.012658</td>\n",
              "      <td>-0.030555</td>\n",
              "      <td>NaN</td>\n",
              "    </tr>\n",
              "    <tr>\n",
              "      <th>Survived</th>\n",
              "      <td>-0.005007</td>\n",
              "      <td>1.000000</td>\n",
              "      <td>-0.338481</td>\n",
              "      <td>0.543351</td>\n",
              "      <td>-0.077221</td>\n",
              "      <td>-0.035322</td>\n",
              "      <td>0.081629</td>\n",
              "      <td>0.257307</td>\n",
              "      <td>0.108669</td>\n",
              "      <td>NaN</td>\n",
              "    </tr>\n",
              "    <tr>\n",
              "      <th>Pclass</th>\n",
              "      <td>-0.035144</td>\n",
              "      <td>-0.338481</td>\n",
              "      <td>1.000000</td>\n",
              "      <td>-0.131900</td>\n",
              "      <td>-0.369226</td>\n",
              "      <td>0.083081</td>\n",
              "      <td>0.018443</td>\n",
              "      <td>-0.549500</td>\n",
              "      <td>0.043835</td>\n",
              "      <td>NaN</td>\n",
              "    </tr>\n",
              "    <tr>\n",
              "      <th>Sex</th>\n",
              "      <td>-0.042939</td>\n",
              "      <td>0.543351</td>\n",
              "      <td>-0.131900</td>\n",
              "      <td>1.000000</td>\n",
              "      <td>-0.093254</td>\n",
              "      <td>0.114631</td>\n",
              "      <td>0.245489</td>\n",
              "      <td>0.182333</td>\n",
              "      <td>0.118593</td>\n",
              "      <td>NaN</td>\n",
              "    </tr>\n",
              "    <tr>\n",
              "      <th>Age</th>\n",
              "      <td>0.036847</td>\n",
              "      <td>-0.077221</td>\n",
              "      <td>-0.369226</td>\n",
              "      <td>-0.093254</td>\n",
              "      <td>1.000000</td>\n",
              "      <td>-0.308247</td>\n",
              "      <td>-0.189119</td>\n",
              "      <td>0.096067</td>\n",
              "      <td>0.012186</td>\n",
              "      <td>NaN</td>\n",
              "    </tr>\n",
              "    <tr>\n",
              "      <th>SibSp</th>\n",
              "      <td>-0.057527</td>\n",
              "      <td>-0.035322</td>\n",
              "      <td>0.083081</td>\n",
              "      <td>0.114631</td>\n",
              "      <td>-0.308247</td>\n",
              "      <td>1.000000</td>\n",
              "      <td>0.414838</td>\n",
              "      <td>0.159651</td>\n",
              "      <td>-0.060606</td>\n",
              "      <td>NaN</td>\n",
              "    </tr>\n",
              "    <tr>\n",
              "      <th>Parch</th>\n",
              "      <td>-0.001652</td>\n",
              "      <td>0.081629</td>\n",
              "      <td>0.018443</td>\n",
              "      <td>0.245489</td>\n",
              "      <td>-0.189119</td>\n",
              "      <td>0.414838</td>\n",
              "      <td>1.000000</td>\n",
              "      <td>0.216225</td>\n",
              "      <td>-0.079320</td>\n",
              "      <td>NaN</td>\n",
              "    </tr>\n",
              "    <tr>\n",
              "      <th>Fare</th>\n",
              "      <td>0.012658</td>\n",
              "      <td>0.257307</td>\n",
              "      <td>-0.549500</td>\n",
              "      <td>0.182333</td>\n",
              "      <td>0.096067</td>\n",
              "      <td>0.159651</td>\n",
              "      <td>0.216225</td>\n",
              "      <td>1.000000</td>\n",
              "      <td>0.063462</td>\n",
              "      <td>NaN</td>\n",
              "    </tr>\n",
              "    <tr>\n",
              "      <th>Embarked</th>\n",
              "      <td>-0.030555</td>\n",
              "      <td>0.108669</td>\n",
              "      <td>0.043835</td>\n",
              "      <td>0.118593</td>\n",
              "      <td>0.012186</td>\n",
              "      <td>-0.060606</td>\n",
              "      <td>-0.079320</td>\n",
              "      <td>0.063462</td>\n",
              "      <td>1.000000</td>\n",
              "      <td>NaN</td>\n",
              "    </tr>\n",
              "    <tr>\n",
              "      <th>CabinEx</th>\n",
              "      <td>NaN</td>\n",
              "      <td>NaN</td>\n",
              "      <td>NaN</td>\n",
              "      <td>NaN</td>\n",
              "      <td>NaN</td>\n",
              "      <td>NaN</td>\n",
              "      <td>NaN</td>\n",
              "      <td>NaN</td>\n",
              "      <td>NaN</td>\n",
              "      <td>NaN</td>\n",
              "    </tr>\n",
              "  </tbody>\n",
              "</table>\n",
              "</div>"
            ],
            "text/plain": [
              "             PassengerId  Survived    Pclass  ...      Fare  Embarked  CabinEx\n",
              "PassengerId     1.000000 -0.005007 -0.035144  ...  0.012658 -0.030555      NaN\n",
              "Survived       -0.005007  1.000000 -0.338481  ...  0.257307  0.108669      NaN\n",
              "Pclass         -0.035144 -0.338481  1.000000  ... -0.549500  0.043835      NaN\n",
              "Sex            -0.042939  0.543351 -0.131900  ...  0.182333  0.118593      NaN\n",
              "Age             0.036847 -0.077221 -0.369226  ...  0.096067  0.012186      NaN\n",
              "SibSp          -0.057527 -0.035322  0.083081  ...  0.159651 -0.060606      NaN\n",
              "Parch          -0.001652  0.081629  0.018443  ...  0.216225 -0.079320      NaN\n",
              "Fare            0.012658  0.257307 -0.549500  ...  1.000000  0.063462      NaN\n",
              "Embarked       -0.030555  0.108669  0.043835  ...  0.063462  1.000000      NaN\n",
              "CabinEx              NaN       NaN       NaN  ...       NaN       NaN      NaN\n",
              "\n",
              "[10 rows x 10 columns]"
            ]
          },
          "metadata": {
            "tags": []
          },
          "execution_count": 12
        }
      ]
    },
    {
      "cell_type": "code",
      "metadata": {
        "colab": {
          "base_uri": "https://localhost:8080/",
          "height": 168
        },
        "id": "qdD-uNbKeN22",
        "outputId": "8fe24255-dd61-460b-b81f-1cd2ff37fb96"
      },
      "source": [
        "sns.heatmap(replace_data(df_train).corr())\n",
        "sns.set()\n",
        "sns.heatmap(df_train.corr())"
      ],
      "execution_count": null,
      "outputs": [
        {
          "output_type": "error",
          "ename": "NameError",
          "evalue": "ignored",
          "traceback": [
            "\u001b[0;31m---------------------------------------------------------------------------\u001b[0m",
            "\u001b[0;31mNameError\u001b[0m                                 Traceback (most recent call last)",
            "\u001b[0;32m<ipython-input-13-94fb1aaa42d5>\u001b[0m in \u001b[0;36m<module>\u001b[0;34m()\u001b[0m\n\u001b[0;32m----> 1\u001b[0;31m \u001b[0msns\u001b[0m\u001b[0;34m.\u001b[0m\u001b[0mheatmap\u001b[0m\u001b[0;34m(\u001b[0m\u001b[0mreplace_data\u001b[0m\u001b[0;34m(\u001b[0m\u001b[0mdf_train\u001b[0m\u001b[0;34m)\u001b[0m\u001b[0;34m.\u001b[0m\u001b[0mcorr\u001b[0m\u001b[0;34m(\u001b[0m\u001b[0;34m)\u001b[0m\u001b[0;34m)\u001b[0m\u001b[0;34m\u001b[0m\u001b[0;34m\u001b[0m\u001b[0m\n\u001b[0m",
            "\u001b[0;31mNameError\u001b[0m: name 'sns' is not defined"
          ]
        }
      ]
    },
    {
      "cell_type": "code",
      "metadata": {
        "id": "VQ3DhxzCaQUA"
      },
      "source": [
        "age_suv = df_train.loc[:, [\"Age\", \"Survived\"]]"
      ],
      "execution_count": null,
      "outputs": []
    },
    {
      "cell_type": "code",
      "metadata": {
        "colab": {
          "base_uri": "https://localhost:8080/"
        },
        "id": "ygQqxkoo1JBW",
        "outputId": "f1f4736c-4952-43b1-9864-eba8ecb775e0"
      },
      "source": [
        "df_train.columns"
      ],
      "execution_count": null,
      "outputs": [
        {
          "output_type": "execute_result",
          "data": {
            "text/plain": [
              "Index(['PassengerId', 'Survived', 'Pclass', 'Name', 'Sex', 'Age', 'SibSp',\n",
              "       'Parch', 'Ticket', 'Fare', 'Cabin', 'Embarked'],\n",
              "      dtype='object')"
            ]
          },
          "metadata": {
            "tags": []
          },
          "execution_count": 23
        }
      ]
    },
    {
      "cell_type": "code",
      "metadata": {
        "id": "5MtMDU7SSdWy",
        "colab": {
          "base_uri": "https://localhost:8080/"
        },
        "outputId": "2522c467-b4a6-4649-f478-2540e2007353"
      },
      "source": [
        "df_train.loc[:, \"Cabin\"].value_counts(dropna=False)"
      ],
      "execution_count": null,
      "outputs": [
        {
          "output_type": "execute_result",
          "data": {
            "text/plain": [
              "NaN            687\n",
              "B96 B98          4\n",
              "C23 C25 C27      4\n",
              "G6               4\n",
              "C22 C26          3\n",
              "              ... \n",
              "E17              1\n",
              "A24              1\n",
              "C85              1\n",
              "B39              1\n",
              "E12              1\n",
              "Name: Cabin, Length: 148, dtype: int64"
            ]
          },
          "metadata": {
            "tags": []
          },
          "execution_count": 26
        }
      ]
    },
    {
      "cell_type": "code",
      "metadata": {
        "id": "t7e57ZCxWFYl"
      },
      "source": [
        "ca_suv = df_train.loc[:, [\"Cabin\", \"Survived\"]]"
      ],
      "execution_count": null,
      "outputs": []
    },
    {
      "cell_type": "code",
      "metadata": {
        "colab": {
          "base_uri": "https://localhost:8080/"
        },
        "id": "eStwTVWJWUjM",
        "outputId": "d8c6337a-fe84-4438-9b56-037fbcabe703"
      },
      "source": [
        "ca_suv[ca_suv[\"Cabin\"].isnull()].loc[:, \"Survived\"].value_counts()"
      ],
      "execution_count": null,
      "outputs": [
        {
          "output_type": "execute_result",
          "data": {
            "text/plain": [
              "0    481\n",
              "1    206\n",
              "Name: Survived, dtype: int64"
            ]
          },
          "metadata": {
            "tags": []
          },
          "execution_count": 45
        }
      ]
    },
    {
      "cell_type": "code",
      "metadata": {
        "colab": {
          "base_uri": "https://localhost:8080/"
        },
        "id": "UNUNYsEPW4Vh",
        "outputId": "f13c272d-f3e3-4a98-ea72-d329077531d8"
      },
      "source": [
        "ca_suv.loc[:, \"Survived\"].value_counts()"
      ],
      "execution_count": null,
      "outputs": [
        {
          "output_type": "execute_result",
          "data": {
            "text/plain": [
              "0    549\n",
              "1    342\n",
              "Name: Survived, dtype: int64"
            ]
          },
          "metadata": {
            "tags": []
          },
          "execution_count": 47
        }
      ]
    },
    {
      "cell_type": "code",
      "metadata": {
        "colab": {
          "base_uri": "https://localhost:8080/"
        },
        "id": "tYsF8A7fOqIO",
        "outputId": "854e866c-6212-4e3a-f720-bd22598b4aa5"
      },
      "source": [
        "df_train.loc[:, \"Embarked\"].value_counts(dropna=False)"
      ],
      "execution_count": null,
      "outputs": [
        {
          "output_type": "execute_result",
          "data": {
            "text/plain": [
              "S      644\n",
              "C      168\n",
              "Q       77\n",
              "NaN      2\n",
              "Name: Embarked, dtype: int64"
            ]
          },
          "metadata": {
            "tags": []
          },
          "execution_count": 38
        }
      ]
    },
    {
      "cell_type": "code",
      "metadata": {
        "colab": {
          "base_uri": "https://localhost:8080/"
        },
        "id": "dlFpL7e7hZ3B",
        "outputId": "41301d7f-0250-4312-ca2e-27edd54451cf"
      },
      "source": [
        "pd.cut(df_train[\"Age\"], 5)"
      ],
      "execution_count": null,
      "outputs": [
        {
          "output_type": "execute_result",
          "data": {
            "text/plain": [
              "0      (16.336, 32.252]\n",
              "1      (32.252, 48.168]\n",
              "2      (16.336, 32.252]\n",
              "3      (32.252, 48.168]\n",
              "4      (32.252, 48.168]\n",
              "             ...       \n",
              "886    (16.336, 32.252]\n",
              "887    (16.336, 32.252]\n",
              "888                 NaN\n",
              "889    (16.336, 32.252]\n",
              "890    (16.336, 32.252]\n",
              "Name: Age, Length: 891, dtype: category\n",
              "Categories (5, interval[float64]): [(0.34, 16.336] < (16.336, 32.252] < (32.252, 48.168] <\n",
              "                                    (48.168, 64.084] < (64.084, 80.0]]"
            ]
          },
          "metadata": {
            "tags": []
          },
          "execution_count": 10
        }
      ]
    },
    {
      "cell_type": "code",
      "metadata": {
        "colab": {
          "base_uri": "https://localhost:8080/",
          "height": 173
        },
        "id": "PldHN0IvzhhY",
        "outputId": "db0aac40-e4d4-4992-f79b-2bf18bdff438"
      },
      "source": [
        "df_train.pivot_table(values=\"Survived\", index=\"Embarked\")"
      ],
      "execution_count": null,
      "outputs": [
        {
          "output_type": "execute_result",
          "data": {
            "text/html": [
              "<div>\n",
              "<style scoped>\n",
              "    .dataframe tbody tr th:only-of-type {\n",
              "        vertical-align: middle;\n",
              "    }\n",
              "\n",
              "    .dataframe tbody tr th {\n",
              "        vertical-align: top;\n",
              "    }\n",
              "\n",
              "    .dataframe thead th {\n",
              "        text-align: right;\n",
              "    }\n",
              "</style>\n",
              "<table border=\"1\" class=\"dataframe\">\n",
              "  <thead>\n",
              "    <tr style=\"text-align: right;\">\n",
              "      <th></th>\n",
              "      <th>Survived</th>\n",
              "    </tr>\n",
              "    <tr>\n",
              "      <th>Embarked</th>\n",
              "      <th></th>\n",
              "    </tr>\n",
              "  </thead>\n",
              "  <tbody>\n",
              "    <tr>\n",
              "      <th>C</th>\n",
              "      <td>0.553571</td>\n",
              "    </tr>\n",
              "    <tr>\n",
              "      <th>Q</th>\n",
              "      <td>0.389610</td>\n",
              "    </tr>\n",
              "    <tr>\n",
              "      <th>S</th>\n",
              "      <td>0.336957</td>\n",
              "    </tr>\n",
              "  </tbody>\n",
              "</table>\n",
              "</div>"
            ],
            "text/plain": [
              "          Survived\n",
              "Embarked          \n",
              "C         0.553571\n",
              "Q         0.389610\n",
              "S         0.336957"
            ]
          },
          "metadata": {
            "tags": []
          },
          "execution_count": 5
        }
      ]
    },
    {
      "cell_type": "code",
      "metadata": {
        "colab": {
          "base_uri": "https://localhost:8080/",
          "height": 297
        },
        "id": "Xj9si66U24SH",
        "outputId": "5e1bc8bf-3b3e-4a6f-d95b-9c96c2a741d7"
      },
      "source": [
        "df_train.pivot_table(values=\"Survived\", index=\"SibSp\", aggfunc=sum)"
      ],
      "execution_count": null,
      "outputs": [
        {
          "output_type": "execute_result",
          "data": {
            "text/html": [
              "<div>\n",
              "<style scoped>\n",
              "    .dataframe tbody tr th:only-of-type {\n",
              "        vertical-align: middle;\n",
              "    }\n",
              "\n",
              "    .dataframe tbody tr th {\n",
              "        vertical-align: top;\n",
              "    }\n",
              "\n",
              "    .dataframe thead th {\n",
              "        text-align: right;\n",
              "    }\n",
              "</style>\n",
              "<table border=\"1\" class=\"dataframe\">\n",
              "  <thead>\n",
              "    <tr style=\"text-align: right;\">\n",
              "      <th></th>\n",
              "      <th>Survived</th>\n",
              "    </tr>\n",
              "    <tr>\n",
              "      <th>SibSp</th>\n",
              "      <th></th>\n",
              "    </tr>\n",
              "  </thead>\n",
              "  <tbody>\n",
              "    <tr>\n",
              "      <th>0</th>\n",
              "      <td>210</td>\n",
              "    </tr>\n",
              "    <tr>\n",
              "      <th>1</th>\n",
              "      <td>112</td>\n",
              "    </tr>\n",
              "    <tr>\n",
              "      <th>2</th>\n",
              "      <td>13</td>\n",
              "    </tr>\n",
              "    <tr>\n",
              "      <th>3</th>\n",
              "      <td>4</td>\n",
              "    </tr>\n",
              "    <tr>\n",
              "      <th>4</th>\n",
              "      <td>3</td>\n",
              "    </tr>\n",
              "    <tr>\n",
              "      <th>5</th>\n",
              "      <td>0</td>\n",
              "    </tr>\n",
              "    <tr>\n",
              "      <th>8</th>\n",
              "      <td>0</td>\n",
              "    </tr>\n",
              "  </tbody>\n",
              "</table>\n",
              "</div>"
            ],
            "text/plain": [
              "       Survived\n",
              "SibSp          \n",
              "0           210\n",
              "1           112\n",
              "2            13\n",
              "3             4\n",
              "4             3\n",
              "5             0\n",
              "8             0"
            ]
          },
          "metadata": {
            "tags": []
          },
          "execution_count": 6
        }
      ]
    },
    {
      "cell_type": "markdown",
      "metadata": {
        "id": "T9XCcn8byGIY"
      },
      "source": [
        "# モデル"
      ]
    },
    {
      "cell_type": "markdown",
      "metadata": {
        "id": "5xNQFgLaQNTg"
      },
      "source": [
        "## ニューラルネット"
      ]
    },
    {
      "cell_type": "code",
      "metadata": {
        "id": "Y8ClmnEngT1h"
      },
      "source": [
        "from sklearn.model_selection import train_test_split\n",
        "\n",
        "origin_train_valid = pd.read_csv(\"/content/drive/MyDrive/Colab Notebooks/kaggle/Titanic/train.csv\")\n",
        "origin_test = pd.read_csv(\"/content/drive/MyDrive/Colab Notebooks/kaggle/Titanic/test.csv\")\n",
        "\n",
        "origin_train_valid[\"TrainFlag\"] = True\n",
        "origin_test[\"TrainFlag\"] = False\n",
        "\n",
        "df_all = origin_train_valid.append(origin_test)\n",
        "df_all.index = df_all[\"PassengerId\"]\n",
        "\n",
        "df_all.drop([\"PassengerId\", \"Name\"], axis = 1, inplace = True)\n",
        "df_all = pd.get_dummies(df_all, drop_first=True)\n",
        "\n",
        "df_train_valid = df_all[df_all[\"TrainFlag\"] == True]\n",
        "df_train_valid = df_train_valid.drop([\"TrainFlag\"], axis = 1)\n",
        "\n",
        "df_test = df_all[df_all[\"TrainFlag\"] == False]\n",
        "df_test = df_test.drop([\"TrainFlag\"], axis = 1)\n",
        "df_test = df_test.drop([\"Survived\"], axis = 1)\n",
        "\n",
        "y = df_train_valid[\"Survived\"].values\n",
        "X = df_train_valid.drop(\"Survived\", axis=1)\n",
        "\n",
        "train_X, valid_X, train_y, valid_y = train_test_split(X, y)\n",
        "df_train_X = pd.DataFrame(train_X)\n",
        "df_valid_X = pd.DataFrame(valid_X)\n",
        "\n",
        "def fill_na(df_train_X, df_valid_X, df_test):\n",
        "  df_train_X = df_train_X.fillna(df_train_X.mean())\n",
        "  df_valid_X = df_valid_X.fillna(df_train_X.mean())\n",
        "  df_test = df_test.fillna(df_train_X.mean())\n",
        "  return df_train_X, df_valid_X, df_test\n",
        "\n",
        "df_train_X, df_valid_X, df_test = fill_na(df_train_X, df_valid_X, df_test)"
      ],
      "execution_count": 56,
      "outputs": []
    },
    {
      "cell_type": "code",
      "metadata": {
        "colab": {
          "base_uri": "https://localhost:8080/"
        },
        "id": "-VHrXpUsa3Vl",
        "outputId": "37a0cfde-9bc9-4a06-b626-bb79d0c45165"
      },
      "source": [
        "from keras.layers import Dense, Dropout\n",
        "from keras.models import Sequential\n",
        "from sklearn.metrics import log_loss\n",
        "from sklearn.preprocessing import StandardScaler\n",
        "\n",
        "def round(pred):\n",
        "  return np.round(pred)\n",
        "\n",
        "# データのスケーリング\n",
        "scaler = StandardScaler()\n",
        "tr_x = scaler.fit_transform(df_train_X)\n",
        "tr_y = train_y\n",
        "va_x = scaler.transform(df_valid_X)\n",
        "va_y = valid_y\n",
        "test_x = scaler.transform(df_test)\n",
        "\n",
        "model = Sequential()\n",
        "model.add(Dense(256, activation=\"relu\", input_shape=(tr_x.shape[1],)))\n",
        "model.add(Dropout(0.2))\n",
        "model.add(Dense(256, activation=\"relu\"))\n",
        "model.add(Dropout(0.2))\n",
        "model.add(Dense(1, activation=\"sigmoid\"))\n",
        "\n",
        "\n",
        "model.compile(loss=\"binary_crossentropy\",\n",
        "              optimizer=\"adam\", metrics=[\"accuracy\"])\n",
        "\n",
        "# 学習の実行\n",
        "# バリデーションデータもモデルに渡し、学習の進行とともにスコアがどう変わるかモニタリングする。\n",
        "batch_size = 128\n",
        "epochs = 10\n",
        "history = model.fit(tr_x, tr_y,\n",
        "                    batch_size=batch_size, epochs=epochs,\n",
        "                    verbose=1, validation_data=(va_x, va_y))\n",
        "\n",
        "# バリデーションデータでのスコアの確認\n",
        "va_pred = model.predict(va_x)\n",
        "score = log_loss(va_y, va_pred, eps=1e-7)\n",
        "print(f\"logloss: {score:.4f}\")\n",
        "\n",
        "# 予測\n",
        "result = round(model.predict(test_x))"
      ],
      "execution_count": 57,
      "outputs": [
        {
          "output_type": "stream",
          "text": [
            "Epoch 1/10\n",
            "6/6 [==============================] - 1s 72ms/step - loss: 0.7231 - accuracy: 0.5613 - val_loss: 0.6352 - val_accuracy: 0.7220\n",
            "Epoch 2/10\n",
            "6/6 [==============================] - 0s 12ms/step - loss: 0.5530 - accuracy: 0.7383 - val_loss: 0.6083 - val_accuracy: 0.7354\n",
            "Epoch 3/10\n",
            "6/6 [==============================] - 0s 12ms/step - loss: 0.4424 - accuracy: 0.8008 - val_loss: 0.5872 - val_accuracy: 0.7265\n",
            "Epoch 4/10\n",
            "6/6 [==============================] - 0s 12ms/step - loss: 0.3311 - accuracy: 0.9098 - val_loss: 0.5789 - val_accuracy: 0.7713\n",
            "Epoch 5/10\n",
            "6/6 [==============================] - 0s 12ms/step - loss: 0.2457 - accuracy: 0.9318 - val_loss: 0.5630 - val_accuracy: 0.7220\n",
            "Epoch 6/10\n",
            "6/6 [==============================] - 0s 12ms/step - loss: 0.1919 - accuracy: 0.9330 - val_loss: 0.5710 - val_accuracy: 0.7399\n",
            "Epoch 7/10\n",
            "6/6 [==============================] - 0s 13ms/step - loss: 0.1205 - accuracy: 0.9649 - val_loss: 0.6030 - val_accuracy: 0.7758\n",
            "Epoch 8/10\n",
            "6/6 [==============================] - 0s 12ms/step - loss: 0.0812 - accuracy: 0.9809 - val_loss: 0.6193 - val_accuracy: 0.7758\n",
            "Epoch 9/10\n",
            "6/6 [==============================] - 0s 16ms/step - loss: 0.0662 - accuracy: 0.9786 - val_loss: 0.6402 - val_accuracy: 0.7848\n",
            "Epoch 10/10\n",
            "6/6 [==============================] - 0s 12ms/step - loss: 0.0626 - accuracy: 0.9780 - val_loss: 0.6702 - val_accuracy: 0.7668\n",
            "logloss: 0.6702\n"
          ],
          "name": "stdout"
        }
      ]
    },
    {
      "cell_type": "code",
      "metadata": {
        "id": "hQK6CrnWyIXz"
      },
      "source": [
        "result\n",
        "pd.DataFrame({\n",
        "    \"PassengerId\": origin_test.loc[:, \"PassengerId\"],\n",
        "    \"Survived\": [int(i) for i in result[:, 0]]\n",
        "}).set_index(\"PassengerId\").to_csv(\"/content/drive/MyDrive/Colab Notebooks/kaggle/Titanic/result.csv\")"
      ],
      "execution_count": 66,
      "outputs": []
    },
    {
      "cell_type": "markdown",
      "metadata": {
        "id": "FiRHgKiMZIxo"
      },
      "source": [
        "## lgb\n"
      ]
    },
    {
      "cell_type": "code",
      "metadata": {
        "colab": {
          "base_uri": "https://localhost:8080/"
        },
        "id": "lzxTy7oqn_xX",
        "outputId": "36ad4382-5c89-4df2-f6d1-2acbf51e02c0"
      },
      "source": [
        "!pip install optuna"
      ],
      "execution_count": null,
      "outputs": [
        {
          "output_type": "stream",
          "text": [
            "Collecting optuna\n",
            "  Downloading optuna-2.8.0-py3-none-any.whl (301 kB)\n",
            "\u001b[K     |████████████████████████████████| 301 kB 37.9 MB/s \n",
            "\u001b[?25hCollecting colorlog\n",
            "  Downloading colorlog-5.0.1-py2.py3-none-any.whl (10 kB)\n",
            "Requirement already satisfied: packaging>=20.0 in /usr/local/lib/python3.7/dist-packages (from optuna) (21.0)\n",
            "Requirement already satisfied: sqlalchemy>=1.1.0 in /usr/local/lib/python3.7/dist-packages (from optuna) (1.4.20)\n",
            "Collecting cmaes>=0.8.2\n",
            "  Downloading cmaes-0.8.2-py3-none-any.whl (15 kB)\n",
            "Requirement already satisfied: scipy!=1.4.0 in /usr/local/lib/python3.7/dist-packages (from optuna) (1.4.1)\n",
            "Collecting cliff\n",
            "  Downloading cliff-3.8.0-py3-none-any.whl (80 kB)\n",
            "\u001b[K     |████████████████████████████████| 80 kB 8.2 MB/s \n",
            "\u001b[?25hRequirement already satisfied: tqdm in /usr/local/lib/python3.7/dist-packages (from optuna) (4.41.1)\n",
            "Collecting alembic\n",
            "  Downloading alembic-1.6.5-py2.py3-none-any.whl (164 kB)\n",
            "\u001b[K     |████████████████████████████████| 164 kB 62.5 MB/s \n",
            "\u001b[?25hRequirement already satisfied: numpy in /usr/local/lib/python3.7/dist-packages (from optuna) (1.19.5)\n",
            "Requirement already satisfied: pyparsing>=2.0.2 in /usr/local/lib/python3.7/dist-packages (from packaging>=20.0->optuna) (2.4.7)\n",
            "Requirement already satisfied: greenlet!=0.4.17 in /usr/local/lib/python3.7/dist-packages (from sqlalchemy>=1.1.0->optuna) (1.1.0)\n",
            "Requirement already satisfied: importlib-metadata in /usr/local/lib/python3.7/dist-packages (from sqlalchemy>=1.1.0->optuna) (4.6.1)\n",
            "Collecting python-editor>=0.3\n",
            "  Downloading python_editor-1.0.4-py3-none-any.whl (4.9 kB)\n",
            "Collecting Mako\n",
            "  Downloading Mako-1.1.4-py2.py3-none-any.whl (75 kB)\n",
            "\u001b[K     |████████████████████████████████| 75 kB 4.0 MB/s \n",
            "\u001b[?25hRequirement already satisfied: python-dateutil in /usr/local/lib/python3.7/dist-packages (from alembic->optuna) (2.8.1)\n",
            "Collecting cmd2>=1.0.0\n",
            "  Downloading cmd2-2.1.2-py3-none-any.whl (141 kB)\n",
            "\u001b[K     |████████████████████████████████| 141 kB 62.2 MB/s \n",
            "\u001b[?25hRequirement already satisfied: PrettyTable>=0.7.2 in /usr/local/lib/python3.7/dist-packages (from cliff->optuna) (2.1.0)\n",
            "Requirement already satisfied: PyYAML>=3.12 in /usr/local/lib/python3.7/dist-packages (from cliff->optuna) (3.13)\n",
            "Collecting pbr!=2.1.0,>=2.0.0\n",
            "  Downloading pbr-5.6.0-py2.py3-none-any.whl (111 kB)\n",
            "\u001b[K     |████████████████████████████████| 111 kB 58.0 MB/s \n",
            "\u001b[?25hCollecting stevedore>=2.0.1\n",
            "  Downloading stevedore-3.3.0-py3-none-any.whl (49 kB)\n",
            "\u001b[K     |████████████████████████████████| 49 kB 4.8 MB/s \n",
            "\u001b[?25hRequirement already satisfied: wcwidth>=0.1.7 in /usr/local/lib/python3.7/dist-packages (from cmd2>=1.0.0->cliff->optuna) (0.2.5)\n",
            "Requirement already satisfied: attrs>=16.3.0 in /usr/local/lib/python3.7/dist-packages (from cmd2>=1.0.0->cliff->optuna) (21.2.0)\n",
            "Collecting colorama>=0.3.7\n",
            "  Downloading colorama-0.4.4-py2.py3-none-any.whl (16 kB)\n",
            "Collecting pyperclip>=1.6\n",
            "  Downloading pyperclip-1.8.2.tar.gz (20 kB)\n",
            "Requirement already satisfied: typing-extensions in /usr/local/lib/python3.7/dist-packages (from cmd2>=1.0.0->cliff->optuna) (3.7.4.3)\n",
            "Requirement already satisfied: zipp>=0.5 in /usr/local/lib/python3.7/dist-packages (from importlib-metadata->sqlalchemy>=1.1.0->optuna) (3.5.0)\n",
            "Requirement already satisfied: MarkupSafe>=0.9.2 in /usr/local/lib/python3.7/dist-packages (from Mako->alembic->optuna) (2.0.1)\n",
            "Requirement already satisfied: six>=1.5 in /usr/local/lib/python3.7/dist-packages (from python-dateutil->alembic->optuna) (1.15.0)\n",
            "Building wheels for collected packages: pyperclip\n",
            "  Building wheel for pyperclip (setup.py) ... \u001b[?25l\u001b[?25hdone\n",
            "  Created wheel for pyperclip: filename=pyperclip-1.8.2-py3-none-any.whl size=11137 sha256=25b7d8ccdec254b66e94f180e63da27fa5ef1a3073dedbe833f6b49182edaf78\n",
            "  Stored in directory: /root/.cache/pip/wheels/9f/18/84/8f69f8b08169c7bae2dde6bd7daf0c19fca8c8e500ee620a28\n",
            "Successfully built pyperclip\n",
            "Installing collected packages: pyperclip, pbr, colorama, stevedore, python-editor, Mako, cmd2, colorlog, cmaes, cliff, alembic, optuna\n",
            "Successfully installed Mako-1.1.4 alembic-1.6.5 cliff-3.8.0 cmaes-0.8.2 cmd2-2.1.2 colorama-0.4.4 colorlog-5.0.1 optuna-2.8.0 pbr-5.6.0 pyperclip-1.8.2 python-editor-1.0.4 stevedore-3.3.0\n"
          ],
          "name": "stdout"
        }
      ]
    },
    {
      "cell_type": "code",
      "metadata": {
        "colab": {
          "base_uri": "https://localhost:8080/"
        },
        "id": "1ra_NTJTTWiC",
        "outputId": "e7bef0a4-fdb8-4e4a-81dc-ac193ddebd40"
      },
      "source": [
        "import numpy as np\n",
        "\n",
        "def round(pred):\n",
        "  return np.round(pred)\n",
        "\n",
        "import optuna.integration.lightgbm as lgb\n",
        "import lightgbm as lgb\n",
        "from sklearn.metrics import log_loss\n",
        "import pandas as pd\n",
        "from sklearn.model_selection import train_test_split\n",
        "\n",
        "origin_train_valid = pd.read_csv(\"/content/drive/MyDrive/Colab Notebooks/kaggle/Titanic/train.csv\")\n",
        "origin_test = pd.read_csv(\"/content/drive/MyDrive/Colab Notebooks/kaggle/Titanic/test.csv\")\n",
        "\n",
        "origin_train_valid[\"TrainFlag\"] = True\n",
        "origin_test[\"TrainFlag\"] = False\n",
        "\n",
        "df_all = origin_train_valid.append(origin_test)\n",
        "df_all.index = df_all[\"PassengerId\"]\n",
        "\n",
        "df_all.drop([\"PassengerId\", \"Name\"], axis = 1, inplace = True)\n",
        "df_all = pd.get_dummies(df_all, drop_first=True)\n",
        "\n",
        "df_train_valid = df_all[df_all[\"TrainFlag\"] == True]\n",
        "df_train_valid = df_train_valid.drop([\"TrainFlag\"], axis = 1)\n",
        "\n",
        "df_test = df_all[df_all[\"TrainFlag\"] == False]\n",
        "df_test = df_test.drop([\"TrainFlag\"], axis = 1)\n",
        "df_test = df_test.drop([\"Survived\"], axis = 1)\n",
        "\n",
        "y = df_train_valid[\"Survived\"].values\n",
        "X = df_train_valid.drop(\"Survived\", axis=1).values\n",
        "\n",
        "train_X, valid_X, train_y, valid_y = train_test_split(X, y) \n",
        "\n",
        "lgb_train = lgb.Dataset(train_X, train_y)\n",
        "lgb_eval = lgb.Dataset(valid_X, valid_y, reference=lgb_train)\n",
        "\n",
        "params = {'objective': 'binary', 'seed': 71, 'verbose': 0, 'metrics': 'binary_logloss'}\n",
        "\n",
        "gbm = lgb.train(params,\n",
        "                lgb_train,\n",
        "                num_boost_round=200,\n",
        "                valid_sets=[lgb_train, lgb_eval],\n",
        "                early_stopping_rounds=50\n",
        "               )\n",
        "\n",
        "model = lgb.train(params, lgb_train, num_boost_round=100)\n",
        "test_pred = gbm.predict(df_test, num_iteration=gbm.best_iteration)\n",
        "\n",
        "print(round(test_pred))"
      ],
      "execution_count": null,
      "outputs": [
        {
          "output_type": "stream",
          "text": [
            "[1]\ttraining's binary_logloss: 0.613154\tvalid_1's binary_logloss: 0.644961\n",
            "Training until validation scores don't improve for 50 rounds.\n",
            "[2]\ttraining's binary_logloss: 0.576469\tvalid_1's binary_logloss: 0.609883\n",
            "[3]\ttraining's binary_logloss: 0.546426\tvalid_1's binary_logloss: 0.581283\n",
            "[4]\ttraining's binary_logloss: 0.521195\tvalid_1's binary_logloss: 0.558813\n",
            "[5]\ttraining's binary_logloss: 0.500041\tvalid_1's binary_logloss: 0.538233\n",
            "[6]\ttraining's binary_logloss: 0.48234\tvalid_1's binary_logloss: 0.522405\n",
            "[7]\ttraining's binary_logloss: 0.466585\tvalid_1's binary_logloss: 0.509463\n",
            "[8]\ttraining's binary_logloss: 0.451531\tvalid_1's binary_logloss: 0.497447\n",
            "[9]\ttraining's binary_logloss: 0.439667\tvalid_1's binary_logloss: 0.487485\n",
            "[10]\ttraining's binary_logloss: 0.428546\tvalid_1's binary_logloss: 0.478649\n",
            "[11]\ttraining's binary_logloss: 0.416346\tvalid_1's binary_logloss: 0.466924\n",
            "[12]\ttraining's binary_logloss: 0.405555\tvalid_1's binary_logloss: 0.45619\n",
            "[13]\ttraining's binary_logloss: 0.396203\tvalid_1's binary_logloss: 0.447413\n",
            "[14]\ttraining's binary_logloss: 0.387868\tvalid_1's binary_logloss: 0.441924\n",
            "[15]\ttraining's binary_logloss: 0.379362\tvalid_1's binary_logloss: 0.435627\n",
            "[16]\ttraining's binary_logloss: 0.371739\tvalid_1's binary_logloss: 0.429717\n",
            "[17]\ttraining's binary_logloss: 0.365223\tvalid_1's binary_logloss: 0.42684\n",
            "[18]\ttraining's binary_logloss: 0.359776\tvalid_1's binary_logloss: 0.423085\n",
            "[19]\ttraining's binary_logloss: 0.355145\tvalid_1's binary_logloss: 0.419788\n",
            "[20]\ttraining's binary_logloss: 0.34974\tvalid_1's binary_logloss: 0.417892\n",
            "[21]\ttraining's binary_logloss: 0.34496\tvalid_1's binary_logloss: 0.417594\n",
            "[22]\ttraining's binary_logloss: 0.339985\tvalid_1's binary_logloss: 0.416206\n",
            "[23]\ttraining's binary_logloss: 0.336358\tvalid_1's binary_logloss: 0.414353\n",
            "[24]\ttraining's binary_logloss: 0.333333\tvalid_1's binary_logloss: 0.412965\n",
            "[25]\ttraining's binary_logloss: 0.329467\tvalid_1's binary_logloss: 0.411823\n",
            "[26]\ttraining's binary_logloss: 0.323797\tvalid_1's binary_logloss: 0.411607\n",
            "[27]\ttraining's binary_logloss: 0.320036\tvalid_1's binary_logloss: 0.410773\n",
            "[28]\ttraining's binary_logloss: 0.315209\tvalid_1's binary_logloss: 0.410077\n",
            "[29]\ttraining's binary_logloss: 0.310601\tvalid_1's binary_logloss: 0.412053\n",
            "[30]\ttraining's binary_logloss: 0.306643\tvalid_1's binary_logloss: 0.412289\n",
            "[31]\ttraining's binary_logloss: 0.30333\tvalid_1's binary_logloss: 0.411376\n",
            "[32]\ttraining's binary_logloss: 0.298186\tvalid_1's binary_logloss: 0.410164\n",
            "[33]\ttraining's binary_logloss: 0.295006\tvalid_1's binary_logloss: 0.408786\n",
            "[34]\ttraining's binary_logloss: 0.292297\tvalid_1's binary_logloss: 0.408839\n",
            "[35]\ttraining's binary_logloss: 0.287784\tvalid_1's binary_logloss: 0.409924\n",
            "[36]\ttraining's binary_logloss: 0.284414\tvalid_1's binary_logloss: 0.410768\n",
            "[37]\ttraining's binary_logloss: 0.281071\tvalid_1's binary_logloss: 0.409392\n",
            "[38]\ttraining's binary_logloss: 0.278348\tvalid_1's binary_logloss: 0.40792\n",
            "[39]\ttraining's binary_logloss: 0.274857\tvalid_1's binary_logloss: 0.409223\n",
            "[40]\ttraining's binary_logloss: 0.271141\tvalid_1's binary_logloss: 0.407355\n",
            "[41]\ttraining's binary_logloss: 0.268078\tvalid_1's binary_logloss: 0.409051\n",
            "[42]\ttraining's binary_logloss: 0.265201\tvalid_1's binary_logloss: 0.410903\n",
            "[43]\ttraining's binary_logloss: 0.262175\tvalid_1's binary_logloss: 0.41107\n",
            "[44]\ttraining's binary_logloss: 0.259527\tvalid_1's binary_logloss: 0.410661\n",
            "[45]\ttraining's binary_logloss: 0.257234\tvalid_1's binary_logloss: 0.410924\n",
            "[46]\ttraining's binary_logloss: 0.254819\tvalid_1's binary_logloss: 0.411302\n",
            "[47]\ttraining's binary_logloss: 0.252634\tvalid_1's binary_logloss: 0.41189\n",
            "[48]\ttraining's binary_logloss: 0.249901\tvalid_1's binary_logloss: 0.414\n",
            "[49]\ttraining's binary_logloss: 0.247307\tvalid_1's binary_logloss: 0.415439\n",
            "[50]\ttraining's binary_logloss: 0.244572\tvalid_1's binary_logloss: 0.416401\n",
            "[51]\ttraining's binary_logloss: 0.242493\tvalid_1's binary_logloss: 0.417925\n",
            "[52]\ttraining's binary_logloss: 0.240527\tvalid_1's binary_logloss: 0.417079\n",
            "[53]\ttraining's binary_logloss: 0.238607\tvalid_1's binary_logloss: 0.418024\n",
            "[54]\ttraining's binary_logloss: 0.236429\tvalid_1's binary_logloss: 0.418178\n",
            "[55]\ttraining's binary_logloss: 0.234982\tvalid_1's binary_logloss: 0.419386\n",
            "[56]\ttraining's binary_logloss: 0.233205\tvalid_1's binary_logloss: 0.41826\n",
            "[57]\ttraining's binary_logloss: 0.231314\tvalid_1's binary_logloss: 0.421013\n",
            "[58]\ttraining's binary_logloss: 0.229024\tvalid_1's binary_logloss: 0.421027\n",
            "[59]\ttraining's binary_logloss: 0.226928\tvalid_1's binary_logloss: 0.422696\n",
            "[60]\ttraining's binary_logloss: 0.224982\tvalid_1's binary_logloss: 0.423733\n",
            "[61]\ttraining's binary_logloss: 0.223322\tvalid_1's binary_logloss: 0.424367\n",
            "[62]\ttraining's binary_logloss: 0.22114\tvalid_1's binary_logloss: 0.422746\n",
            "[63]\ttraining's binary_logloss: 0.218946\tvalid_1's binary_logloss: 0.424674\n",
            "[64]\ttraining's binary_logloss: 0.217201\tvalid_1's binary_logloss: 0.426565\n",
            "[65]\ttraining's binary_logloss: 0.215473\tvalid_1's binary_logloss: 0.427585\n",
            "[66]\ttraining's binary_logloss: 0.213792\tvalid_1's binary_logloss: 0.428768\n",
            "[67]\ttraining's binary_logloss: 0.212425\tvalid_1's binary_logloss: 0.43023\n",
            "[68]\ttraining's binary_logloss: 0.210461\tvalid_1's binary_logloss: 0.433299\n",
            "[69]\ttraining's binary_logloss: 0.208557\tvalid_1's binary_logloss: 0.432158\n",
            "[70]\ttraining's binary_logloss: 0.207438\tvalid_1's binary_logloss: 0.432742\n",
            "[71]\ttraining's binary_logloss: 0.206018\tvalid_1's binary_logloss: 0.432498\n",
            "[72]\ttraining's binary_logloss: 0.204353\tvalid_1's binary_logloss: 0.435011\n",
            "[73]\ttraining's binary_logloss: 0.202792\tvalid_1's binary_logloss: 0.435179\n",
            "[74]\ttraining's binary_logloss: 0.201399\tvalid_1's binary_logloss: 0.437208\n",
            "[75]\ttraining's binary_logloss: 0.199536\tvalid_1's binary_logloss: 0.439502\n",
            "[76]\ttraining's binary_logloss: 0.197965\tvalid_1's binary_logloss: 0.441684\n",
            "[77]\ttraining's binary_logloss: 0.196344\tvalid_1's binary_logloss: 0.44261\n",
            "[78]\ttraining's binary_logloss: 0.194897\tvalid_1's binary_logloss: 0.443016\n",
            "[79]\ttraining's binary_logloss: 0.193283\tvalid_1's binary_logloss: 0.442483\n",
            "[80]\ttraining's binary_logloss: 0.191996\tvalid_1's binary_logloss: 0.444092\n",
            "[81]\ttraining's binary_logloss: 0.190293\tvalid_1's binary_logloss: 0.445147\n",
            "[82]\ttraining's binary_logloss: 0.188965\tvalid_1's binary_logloss: 0.44347\n",
            "[83]\ttraining's binary_logloss: 0.1875\tvalid_1's binary_logloss: 0.444728\n",
            "[84]\ttraining's binary_logloss: 0.186013\tvalid_1's binary_logloss: 0.445884\n",
            "[85]\ttraining's binary_logloss: 0.184808\tvalid_1's binary_logloss: 0.445386\n",
            "[86]\ttraining's binary_logloss: 0.183367\tvalid_1's binary_logloss: 0.444897\n",
            "[87]\ttraining's binary_logloss: 0.182459\tvalid_1's binary_logloss: 0.443366\n",
            "[88]\ttraining's binary_logloss: 0.180855\tvalid_1's binary_logloss: 0.442815\n",
            "[89]\ttraining's binary_logloss: 0.179638\tvalid_1's binary_logloss: 0.443695\n",
            "[90]\ttraining's binary_logloss: 0.178575\tvalid_1's binary_logloss: 0.443176\n",
            "Early stopping, best iteration is:\n",
            "[40]\ttraining's binary_logloss: 0.271141\tvalid_1's binary_logloss: 0.407355\n",
            "[0. 0. 0. 0. 0. 0. 0. 0. 1. 0. 0. 0. 1. 0. 1. 1. 0. 0. 0. 0. 0. 0. 1. 1.\n",
            " 1. 0. 1. 0. 1. 0. 0. 0. 1. 0. 0. 0. 0. 0. 0. 0. 0. 0. 0. 1. 1. 0. 1. 0.\n",
            " 1. 1. 0. 0. 1. 1. 0. 0. 0. 0. 0. 1. 0. 0. 0. 1. 1. 1. 1. 0. 1. 1. 0. 0.\n",
            " 0. 1. 1. 0. 0. 1. 0. 0. 1. 0. 0. 0. 0. 0. 0. 0. 1. 1. 0. 0. 1. 0. 1. 0.\n",
            " 1. 0. 1. 0. 1. 0. 0. 0. 0. 0. 0. 0. 0. 0. 0. 1. 1. 1. 1. 0. 0. 1. 0. 1.\n",
            " 1. 0. 1. 0. 0. 1. 0. 1. 0. 0. 0. 0. 1. 0. 0. 0. 0. 0. 0. 0. 0. 1. 0. 0.\n",
            " 1. 0. 0. 0. 0. 0. 1. 0. 0. 0. 0. 0. 1. 1. 1. 0. 1. 1. 1. 0. 0. 0. 0. 0.\n",
            " 1. 0. 0. 0. 0. 0. 0. 1. 1. 0. 1. 1. 0. 0. 1. 0. 1. 0. 1. 0. 0. 0. 0. 0.\n",
            " 0. 0. 1. 0. 1. 1. 0. 0. 1. 1. 0. 1. 0. 0. 0. 0. 1. 0. 0. 0. 0. 1. 0. 0.\n",
            " 1. 0. 1. 0. 1. 0. 1. 0. 1. 1. 0. 1. 0. 0. 0. 1. 0. 0. 0. 0. 0. 0. 1. 1.\n",
            " 1. 1. 0. 0. 0. 0. 1. 0. 1. 0. 1. 0. 0. 0. 0. 0. 0. 0. 1. 0. 0. 0. 1. 1.\n",
            " 0. 0. 0. 0. 0. 0. 0. 0. 1. 1. 0. 1. 0. 0. 0. 0. 0. 1. 1. 0. 1. 0. 0. 0.\n",
            " 0. 0. 0. 0. 0. 0. 0. 0. 1. 0. 0. 0. 0. 0. 0. 0. 1. 1. 0. 1. 0. 0. 0. 0.\n",
            " 0. 0. 1. 1. 0. 0. 0. 0. 0. 0. 0. 1. 1. 0. 1. 0. 0. 0. 1. 1. 0. 1. 0. 0.\n",
            " 0. 0. 0. 0. 0. 0. 0. 1. 0. 1. 0. 0. 0. 1. 1. 0. 0. 0. 1. 0. 1. 0. 0. 1.\n",
            " 0. 1. 1. 0. 1. 0. 0. 0. 1. 0. 0. 1. 0. 0. 1. 1. 0. 0. 0. 0. 0. 0. 1. 1.\n",
            " 0. 1. 0. 0. 0. 0. 0. 1. 0. 0. 0. 1. 0. 1. 0. 0. 1. 0. 1. 0. 1. 0. 0. 0.\n",
            " 1. 1. 1. 1. 0. 0. 1. 0. 0. 1.]\n"
          ],
          "name": "stdout"
        }
      ]
    },
    {
      "cell_type": "code",
      "metadata": {
        "id": "bsBs_TxYxfSX"
      },
      "source": [
        "pd.DataFrame({\n",
        "    \"PassengerId\": pte.loc[:, \"PassengerId\"],\n",
        "    \"Survived\": [int(s) for s in round(test_pred)]\n",
        "}).set_index(\"PassengerId\").to_csv(\"/content/drive/MyDrive/Colab Notebooks/kaggle/Titanic/result.csv\")"
      ],
      "execution_count": null,
      "outputs": []
    }
  ]
}